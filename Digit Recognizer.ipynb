{
 "cells": [
  {
   "cell_type": "markdown",
   "metadata": {},
   "source": [
    "# About"
   ]
  },
  {
   "cell_type": "markdown",
   "metadata": {},
   "source": [
    "Solving the Kaggle \"Getting started\" competition [Digit Recognizer](https://www.kaggle.com/c/digit-recognizer).\n",
    "\n",
    "This challenge is a computer vision problem. As for other time-based series data, **Convolutional Neural Networks** CNN are very-well suited to solve this kind of problems.\n",
    "\n",
    "This notebook's goal is four-fold:\n",
    "* Help me integrate and apply theorical knowledge learnt from various sources ([Andrew Ng](https://www.coursera.org/learn/machine-learning), [Carlos Guestrin & Emily Fox](https://www.coursera.org/specializations/machine-learning), [Jeremy Howard](http://course.fast.ai/)).\n",
    "* Learn to use [Keras](keras.io) and Theano/Tensorflow behind.\n",
    "* Study and apply visualization techniques ([Christopher Olah](http://colah.github.io/)).\n",
    "* Get more familiar with [Kaggle](http://colah.github.io/) and give back this notebook to the community."
   ]
  },
  {
   "cell_type": "markdown",
   "metadata": {},
   "source": [
    "# Setup"
   ]
  },
  {
   "cell_type": "code",
   "execution_count": null,
   "metadata": {
    "collapsed": true
   },
   "outputs": [],
   "source": [
    "echo"
   ]
  }
 ],
 "metadata": {
  "kernelspec": {
   "display_name": "Python 3",
   "language": "python",
   "name": "python3"
  },
  "language_info": {
   "codemirror_mode": {
    "name": "ipython",
    "version": 3
   },
   "file_extension": ".py",
   "mimetype": "text/x-python",
   "name": "python",
   "nbconvert_exporter": "python",
   "pygments_lexer": "ipython3",
   "version": "3.6.0"
  }
 },
 "nbformat": 4,
 "nbformat_minor": 2
}
